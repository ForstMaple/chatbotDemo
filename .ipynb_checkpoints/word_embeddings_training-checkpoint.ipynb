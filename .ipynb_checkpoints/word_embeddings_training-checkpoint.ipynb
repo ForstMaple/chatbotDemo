{
 "cells": [
  {
   "cell_type": "code",
   "execution_count": 2,
   "metadata": {},
   "outputs": [
    {
     "name": "stdout",
     "output_type": "stream",
     "text": [
      "Requirement already satisfied: faiss in /opt/anaconda3/envs/nlp/lib/python3.8/site-packages (1.7.1)\r\n",
      "Requirement already satisfied: numpy in /opt/anaconda3/envs/nlp/lib/python3.8/site-packages (from faiss) (1.22.1)\r\n"
     ]
    }
   ],
   "source": [
    "!pip install faiss"
   ]
  },
  {
   "cell_type": "code",
   "execution_count": 4,
   "metadata": {},
   "outputs": [
    {
     "ename": "ModuleNotFoundError",
     "evalue": "No module named 'spacy_sentence_bert'",
     "output_type": "error",
     "traceback": [
      "\u001b[0;31m---------------------------------------------------------------------------\u001b[0m",
      "\u001b[0;31mModuleNotFoundError\u001b[0m                       Traceback (most recent call last)",
      "\u001b[0;32m/var/folders/21/zdf3wzld3p979snbmfvvd8d00000gn/T/ipykernel_52324/3106518543.py\u001b[0m in \u001b[0;36m<module>\u001b[0;34m\u001b[0m\n\u001b[1;32m      1\u001b[0m \u001b[0;32mimport\u001b[0m \u001b[0mnumpy\u001b[0m \u001b[0;32mas\u001b[0m \u001b[0mnp\u001b[0m\u001b[0;34m\u001b[0m\u001b[0;34m\u001b[0m\u001b[0m\n\u001b[0;32m----> 2\u001b[0;31m \u001b[0;32mimport\u001b[0m \u001b[0mspacy_sentence_bert\u001b[0m\u001b[0;34m\u001b[0m\u001b[0;34m\u001b[0m\u001b[0m\n\u001b[0m\u001b[1;32m      3\u001b[0m \u001b[0;32mfrom\u001b[0m \u001b[0mload_data\u001b[0m \u001b[0;32mimport\u001b[0m \u001b[0mload_game_data\u001b[0m\u001b[0;34m\u001b[0m\u001b[0;34m\u001b[0m\u001b[0m\n",
      "\u001b[0;31mModuleNotFoundError\u001b[0m: No module named 'spacy_sentence_bert'"
     ]
    }
   ],
   "source": [
    "import numpy as np\n",
    "import spacy_sentence_bert\n",
    "from load_data import load_game_data"
   ]
  },
  {
   "cell_type": "code",
   "execution_count": 1,
   "metadata": {},
   "outputs": [
    {
     "ename": "NameError",
     "evalue": "name 'load_game_data' is not defined",
     "output_type": "error",
     "traceback": [
      "\u001b[0;31m---------------------------------------------------------------------------\u001b[0m",
      "\u001b[0;31mNameError\u001b[0m                                 Traceback (most recent call last)",
      "\u001b[1;32m/Users/maplefeng/Projects/NLP Project/word_embeddings_training.ipynb Cell 1'\u001b[0m in \u001b[0;36m<cell line: 1>\u001b[0;34m()\u001b[0m\n\u001b[0;32m----> <a href='vscode-notebook-cell:/Users/maplefeng/Projects/NLP%20Project/word_embeddings_training.ipynb#ch0000008?line=0'>1</a>\u001b[0m games \u001b[39m=\u001b[39m load_game_data()\n\u001b[1;32m      <a href='vscode-notebook-cell:/Users/maplefeng/Projects/NLP%20Project/word_embeddings_training.ipynb#ch0000008?line=1'>2</a>\u001b[0m game5 \u001b[39m=\u001b[39m games\u001b[39m.\u001b[39mhead()\n\u001b[1;32m      <a href='vscode-notebook-cell:/Users/maplefeng/Projects/NLP%20Project/word_embeddings_training.ipynb#ch0000008?line=2'>3</a>\u001b[0m game \u001b[39m=\u001b[39m games\u001b[39m.\u001b[39miloc[\u001b[39m0\u001b[39m]\n",
      "\u001b[0;31mNameError\u001b[0m: name 'load_game_data' is not defined"
     ]
    }
   ],
   "source": [
    "games = load_game_data()\n",
    "game5 = games.head()\n",
    "game = games.iloc[0]"
   ]
  },
  {
   "cell_type": "code",
   "execution_count": null,
   "metadata": {},
   "outputs": [],
   "source": [
    "game5"
   ]
  },
  {
   "cell_type": "code",
   "execution_count": null,
   "metadata": {},
   "outputs": [],
   "source": [
    "\n",
    "nlp = spacy_sentence_bert.load_model('en_stsb_roberta_base')\n",
    "vectors = games[\"name\"].apply(lambda x: nlp(str(x)))"
   ]
  },
  {
   "cell_type": "code",
   "execution_count": null,
   "metadata": {},
   "outputs": [],
   "source": [
    "data = vectors.head(1000).apply(lambda x: x.vector)\n",
    "np.save(\"vector1000.npy\", data)"
   ]
  },
  {
   "cell_type": "code",
   "execution_count": null,
   "metadata": {},
   "outputs": [],
   "source": [
    "async def get_embeddings(vectors):\n",
    "    vectors = np.array()\n",
    "    for row in vectors.head(100):\n",
    "        await vectors.append(row.vector)\n",
    "    return vectors\n",
    "vecs = get_embeddings(vectors)\n",
    "vecs"
   ]
  },
  {
   "cell_type": "code",
   "execution_count": null,
   "metadata": {},
   "outputs": [],
   "source": []
  },
  {
   "cell_type": "code",
   "execution_count": null,
   "metadata": {},
   "outputs": [],
   "source": []
  }
 ],
 "metadata": {
  "interpreter": {
   "hash": "7ca22d29c54801dc6f5965a38d927daa1e6c2e5af597f713da55b122cab72569"
  },
  "kernelspec": {
   "display_name": "Python 3 (ipykernel)",
   "language": "python",
   "name": "python3"
  },
  "language_info": {
   "codemirror_mode": {
    "name": "ipython",
    "version": 3
   },
   "file_extension": ".py",
   "mimetype": "text/x-python",
   "name": "python",
   "nbconvert_exporter": "python",
   "pygments_lexer": "ipython3",
   "version": "3.8.12"
  }
 },
 "nbformat": 4,
 "nbformat_minor": 2
}
